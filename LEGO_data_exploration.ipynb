{
 "cells": [
  {
   "cell_type": "markdown",
   "metadata": {},
   "source": [
    "# LEGO Data Set Exploration and Visualizations\n",
    "### Emily Weed\n",
    "Small project exploring the LEGO sets data from [Kaggle](https://www.kaggle.com/rtatman/lego-database) and visualizing them. I will be loosely exploring how LEGO sets have changed over time."
   ]
  },
  {
   "cell_type": "code",
   "execution_count": 3,
   "metadata": {},
   "outputs": [],
   "source": [
    "# Importing packages\n",
    "import pandas as pd\n",
    "import matplotlib.pyplot as plt\n",
    "import seaborn as sns"
   ]
  },
  {
   "cell_type": "code",
   "execution_count": 4,
   "metadata": {},
   "outputs": [],
   "source": [
    "#Reading in all the csvs\n",
    "df_colors = pd.read_csv('colors.csv')\n",
    "df_sets = pd.read_csv('sets.csv')\n",
    "df_inv_sets = pd.read_csv('inventory_sets.csv')\n",
    "df_inv_parts = pd.read_csv('inventory_parts.csv')\n",
    "df_invs = pd.read_csv('inventories.csv')\n",
    "df_themes = pd.read_csv('themes.csv')"
   ]
  },
  {
   "cell_type": "code",
   "execution_count": 5,
   "metadata": {},
   "outputs": [],
   "source": [
    "df_set_invs = pd.merge(df_sets, df_invs, on=\"set_num\", how = \"outer\")"
   ]
  },
  {
   "cell_type": "code",
   "execution_count": 6,
   "metadata": {},
   "outputs": [
    {
     "data": {
      "text/html": [
       "<div>\n",
       "<style scoped>\n",
       "    .dataframe tbody tr th:only-of-type {\n",
       "        vertical-align: middle;\n",
       "    }\n",
       "\n",
       "    .dataframe tbody tr th {\n",
       "        vertical-align: top;\n",
       "    }\n",
       "\n",
       "    .dataframe thead th {\n",
       "        text-align: right;\n",
       "    }\n",
       "</style>\n",
       "<table border=\"1\" class=\"dataframe\">\n",
       "  <thead>\n",
       "    <tr style=\"text-align: right;\">\n",
       "      <th></th>\n",
       "      <th>set_num</th>\n",
       "      <th>name</th>\n",
       "      <th>year</th>\n",
       "      <th>theme_id</th>\n",
       "      <th>num_parts</th>\n",
       "      <th>id</th>\n",
       "      <th>version</th>\n",
       "      <th>inventory_id</th>\n",
       "      <th>part_num</th>\n",
       "      <th>color_id</th>\n",
       "      <th>quantity</th>\n",
       "      <th>is_spare</th>\n",
       "    </tr>\n",
       "  </thead>\n",
       "  <tbody>\n",
       "    <tr>\n",
       "      <th>0</th>\n",
       "      <td>00-1</td>\n",
       "      <td>Weetabix Castle</td>\n",
       "      <td>1970</td>\n",
       "      <td>414</td>\n",
       "      <td>471</td>\n",
       "      <td>5574.0</td>\n",
       "      <td>1.0</td>\n",
       "      <td>5574.0</td>\n",
       "      <td>29c01</td>\n",
       "      <td>4.0</td>\n",
       "      <td>8.0</td>\n",
       "      <td>f</td>\n",
       "    </tr>\n",
       "    <tr>\n",
       "      <th>1</th>\n",
       "      <td>00-1</td>\n",
       "      <td>Weetabix Castle</td>\n",
       "      <td>1970</td>\n",
       "      <td>414</td>\n",
       "      <td>471</td>\n",
       "      <td>5574.0</td>\n",
       "      <td>1.0</td>\n",
       "      <td>5574.0</td>\n",
       "      <td>29c01</td>\n",
       "      <td>15.0</td>\n",
       "      <td>6.0</td>\n",
       "      <td>f</td>\n",
       "    </tr>\n",
       "    <tr>\n",
       "      <th>2</th>\n",
       "      <td>00-1</td>\n",
       "      <td>Weetabix Castle</td>\n",
       "      <td>1970</td>\n",
       "      <td>414</td>\n",
       "      <td>471</td>\n",
       "      <td>5574.0</td>\n",
       "      <td>1.0</td>\n",
       "      <td>5574.0</td>\n",
       "      <td>3001a</td>\n",
       "      <td>15.0</td>\n",
       "      <td>25.0</td>\n",
       "      <td>f</td>\n",
       "    </tr>\n",
       "    <tr>\n",
       "      <th>3</th>\n",
       "      <td>00-1</td>\n",
       "      <td>Weetabix Castle</td>\n",
       "      <td>1970</td>\n",
       "      <td>414</td>\n",
       "      <td>471</td>\n",
       "      <td>5574.0</td>\n",
       "      <td>1.0</td>\n",
       "      <td>5574.0</td>\n",
       "      <td>3001a</td>\n",
       "      <td>4.0</td>\n",
       "      <td>9.0</td>\n",
       "      <td>f</td>\n",
       "    </tr>\n",
       "    <tr>\n",
       "      <th>4</th>\n",
       "      <td>00-1</td>\n",
       "      <td>Weetabix Castle</td>\n",
       "      <td>1970</td>\n",
       "      <td>414</td>\n",
       "      <td>471</td>\n",
       "      <td>5574.0</td>\n",
       "      <td>1.0</td>\n",
       "      <td>5574.0</td>\n",
       "      <td>3001a</td>\n",
       "      <td>1.0</td>\n",
       "      <td>4.0</td>\n",
       "      <td>f</td>\n",
       "    </tr>\n",
       "  </tbody>\n",
       "</table>\n",
       "</div>"
      ],
      "text/plain": [
       "  set_num             name  year  theme_id  num_parts      id  version  \\\n",
       "0    00-1  Weetabix Castle  1970       414        471  5574.0      1.0   \n",
       "1    00-1  Weetabix Castle  1970       414        471  5574.0      1.0   \n",
       "2    00-1  Weetabix Castle  1970       414        471  5574.0      1.0   \n",
       "3    00-1  Weetabix Castle  1970       414        471  5574.0      1.0   \n",
       "4    00-1  Weetabix Castle  1970       414        471  5574.0      1.0   \n",
       "\n",
       "   inventory_id part_num  color_id  quantity is_spare  \n",
       "0        5574.0    29c01       4.0       8.0        f  \n",
       "1        5574.0    29c01      15.0       6.0        f  \n",
       "2        5574.0    3001a      15.0      25.0        f  \n",
       "3        5574.0    3001a       4.0       9.0        f  \n",
       "4        5574.0    3001a       1.0       4.0        f  "
      ]
     },
     "execution_count": 6,
     "metadata": {},
     "output_type": "execute_result"
    }
   ],
   "source": [
    "df_set_invs_parts = pd.merge(df_set_invs, df_inv_parts, left_on = \"id\", right_on = 'inventory_id', how = \"outer\")\n",
    "df_set_invs_parts.head()"
   ]
  },
  {
   "cell_type": "code",
   "execution_count": 8,
   "metadata": {},
   "outputs": [
    {
     "data": {
      "text/html": [
       "<div>\n",
       "<style scoped>\n",
       "    .dataframe tbody tr th:only-of-type {\n",
       "        vertical-align: middle;\n",
       "    }\n",
       "\n",
       "    .dataframe tbody tr th {\n",
       "        vertical-align: top;\n",
       "    }\n",
       "\n",
       "    .dataframe thead th {\n",
       "        text-align: right;\n",
       "    }\n",
       "</style>\n",
       "<table border=\"1\" class=\"dataframe\">\n",
       "  <thead>\n",
       "    <tr style=\"text-align: right;\">\n",
       "      <th></th>\n",
       "      <th>set_num_x</th>\n",
       "      <th>name</th>\n",
       "      <th>year</th>\n",
       "      <th>theme_id</th>\n",
       "      <th>num_parts</th>\n",
       "      <th>id</th>\n",
       "      <th>version</th>\n",
       "      <th>inventory_id_x</th>\n",
       "      <th>part_num</th>\n",
       "      <th>color_id</th>\n",
       "      <th>quantity_x</th>\n",
       "      <th>is_spare</th>\n",
       "      <th>inventory_id_y</th>\n",
       "      <th>set_num_y</th>\n",
       "      <th>quantity_y</th>\n",
       "    </tr>\n",
       "  </thead>\n",
       "  <tbody>\n",
       "    <tr>\n",
       "      <th>0</th>\n",
       "      <td>00-1</td>\n",
       "      <td>Weetabix Castle</td>\n",
       "      <td>1970</td>\n",
       "      <td>414</td>\n",
       "      <td>471</td>\n",
       "      <td>5574.0</td>\n",
       "      <td>1.0</td>\n",
       "      <td>5574.0</td>\n",
       "      <td>29c01</td>\n",
       "      <td>4.0</td>\n",
       "      <td>8.0</td>\n",
       "      <td>f</td>\n",
       "      <td>NaN</td>\n",
       "      <td>NaN</td>\n",
       "      <td>NaN</td>\n",
       "    </tr>\n",
       "    <tr>\n",
       "      <th>1</th>\n",
       "      <td>00-1</td>\n",
       "      <td>Weetabix Castle</td>\n",
       "      <td>1970</td>\n",
       "      <td>414</td>\n",
       "      <td>471</td>\n",
       "      <td>5574.0</td>\n",
       "      <td>1.0</td>\n",
       "      <td>5574.0</td>\n",
       "      <td>29c01</td>\n",
       "      <td>15.0</td>\n",
       "      <td>6.0</td>\n",
       "      <td>f</td>\n",
       "      <td>NaN</td>\n",
       "      <td>NaN</td>\n",
       "      <td>NaN</td>\n",
       "    </tr>\n",
       "    <tr>\n",
       "      <th>2</th>\n",
       "      <td>00-1</td>\n",
       "      <td>Weetabix Castle</td>\n",
       "      <td>1970</td>\n",
       "      <td>414</td>\n",
       "      <td>471</td>\n",
       "      <td>5574.0</td>\n",
       "      <td>1.0</td>\n",
       "      <td>5574.0</td>\n",
       "      <td>3001a</td>\n",
       "      <td>15.0</td>\n",
       "      <td>25.0</td>\n",
       "      <td>f</td>\n",
       "      <td>NaN</td>\n",
       "      <td>NaN</td>\n",
       "      <td>NaN</td>\n",
       "    </tr>\n",
       "    <tr>\n",
       "      <th>3</th>\n",
       "      <td>00-1</td>\n",
       "      <td>Weetabix Castle</td>\n",
       "      <td>1970</td>\n",
       "      <td>414</td>\n",
       "      <td>471</td>\n",
       "      <td>5574.0</td>\n",
       "      <td>1.0</td>\n",
       "      <td>5574.0</td>\n",
       "      <td>3001a</td>\n",
       "      <td>4.0</td>\n",
       "      <td>9.0</td>\n",
       "      <td>f</td>\n",
       "      <td>NaN</td>\n",
       "      <td>NaN</td>\n",
       "      <td>NaN</td>\n",
       "    </tr>\n",
       "    <tr>\n",
       "      <th>4</th>\n",
       "      <td>00-1</td>\n",
       "      <td>Weetabix Castle</td>\n",
       "      <td>1970</td>\n",
       "      <td>414</td>\n",
       "      <td>471</td>\n",
       "      <td>5574.0</td>\n",
       "      <td>1.0</td>\n",
       "      <td>5574.0</td>\n",
       "      <td>3001a</td>\n",
       "      <td>1.0</td>\n",
       "      <td>4.0</td>\n",
       "      <td>f</td>\n",
       "      <td>NaN</td>\n",
       "      <td>NaN</td>\n",
       "      <td>NaN</td>\n",
       "    </tr>\n",
       "  </tbody>\n",
       "</table>\n",
       "</div>"
      ],
      "text/plain": [
       "  set_num_x             name  year  theme_id  num_parts      id  version  \\\n",
       "0      00-1  Weetabix Castle  1970       414        471  5574.0      1.0   \n",
       "1      00-1  Weetabix Castle  1970       414        471  5574.0      1.0   \n",
       "2      00-1  Weetabix Castle  1970       414        471  5574.0      1.0   \n",
       "3      00-1  Weetabix Castle  1970       414        471  5574.0      1.0   \n",
       "4      00-1  Weetabix Castle  1970       414        471  5574.0      1.0   \n",
       "\n",
       "   inventory_id_x part_num  color_id  quantity_x is_spare  inventory_id_y  \\\n",
       "0          5574.0    29c01       4.0         8.0        f             NaN   \n",
       "1          5574.0    29c01      15.0         6.0        f             NaN   \n",
       "2          5574.0    3001a      15.0        25.0        f             NaN   \n",
       "3          5574.0    3001a       4.0         9.0        f             NaN   \n",
       "4          5574.0    3001a       1.0         4.0        f             NaN   \n",
       "\n",
       "  set_num_y  quantity_y  \n",
       "0       NaN         NaN  \n",
       "1       NaN         NaN  \n",
       "2       NaN         NaN  \n",
       "3       NaN         NaN  \n",
       "4       NaN         NaN  "
      ]
     },
     "execution_count": 8,
     "metadata": {},
     "output_type": "execute_result"
    }
   ],
   "source": [
    "df_sets_and_all_invs = pd.merge(df_set_invs_parts, df_inv_sets, left_on= \"id\", right_on = \"inventory_id\", how = \"outer\")\n",
    "df_sets_and_all_invs.head()"
   ]
  },
  {
   "cell_type": "code",
   "execution_count": 9,
   "metadata": {},
   "outputs": [
    {
     "data": {
      "text/html": [
       "<div>\n",
       "<style scoped>\n",
       "    .dataframe tbody tr th:only-of-type {\n",
       "        vertical-align: middle;\n",
       "    }\n",
       "\n",
       "    .dataframe tbody tr th {\n",
       "        vertical-align: top;\n",
       "    }\n",
       "\n",
       "    .dataframe thead th {\n",
       "        text-align: right;\n",
       "    }\n",
       "</style>\n",
       "<table border=\"1\" class=\"dataframe\">\n",
       "  <thead>\n",
       "    <tr style=\"text-align: right;\">\n",
       "      <th></th>\n",
       "      <th>set_num_x</th>\n",
       "      <th>name_x</th>\n",
       "      <th>year</th>\n",
       "      <th>theme_id</th>\n",
       "      <th>num_parts</th>\n",
       "      <th>id_x</th>\n",
       "      <th>version</th>\n",
       "      <th>inventory_id_x</th>\n",
       "      <th>part_num</th>\n",
       "      <th>color_id</th>\n",
       "      <th>quantity_x</th>\n",
       "      <th>is_spare</th>\n",
       "      <th>inventory_id_y</th>\n",
       "      <th>set_num_y</th>\n",
       "      <th>quantity_y</th>\n",
       "      <th>id_y</th>\n",
       "      <th>name_y</th>\n",
       "      <th>parent_id</th>\n",
       "    </tr>\n",
       "  </thead>\n",
       "  <tbody>\n",
       "    <tr>\n",
       "      <th>0</th>\n",
       "      <td>00-1</td>\n",
       "      <td>Weetabix Castle</td>\n",
       "      <td>1970.0</td>\n",
       "      <td>414.0</td>\n",
       "      <td>471.0</td>\n",
       "      <td>5574.0</td>\n",
       "      <td>1.0</td>\n",
       "      <td>5574.0</td>\n",
       "      <td>29c01</td>\n",
       "      <td>4.0</td>\n",
       "      <td>8.0</td>\n",
       "      <td>f</td>\n",
       "      <td>NaN</td>\n",
       "      <td>NaN</td>\n",
       "      <td>NaN</td>\n",
       "      <td>414</td>\n",
       "      <td>Castle</td>\n",
       "      <td>411.0</td>\n",
       "    </tr>\n",
       "    <tr>\n",
       "      <th>1</th>\n",
       "      <td>00-1</td>\n",
       "      <td>Weetabix Castle</td>\n",
       "      <td>1970.0</td>\n",
       "      <td>414.0</td>\n",
       "      <td>471.0</td>\n",
       "      <td>5574.0</td>\n",
       "      <td>1.0</td>\n",
       "      <td>5574.0</td>\n",
       "      <td>29c01</td>\n",
       "      <td>15.0</td>\n",
       "      <td>6.0</td>\n",
       "      <td>f</td>\n",
       "      <td>NaN</td>\n",
       "      <td>NaN</td>\n",
       "      <td>NaN</td>\n",
       "      <td>414</td>\n",
       "      <td>Castle</td>\n",
       "      <td>411.0</td>\n",
       "    </tr>\n",
       "    <tr>\n",
       "      <th>2</th>\n",
       "      <td>00-1</td>\n",
       "      <td>Weetabix Castle</td>\n",
       "      <td>1970.0</td>\n",
       "      <td>414.0</td>\n",
       "      <td>471.0</td>\n",
       "      <td>5574.0</td>\n",
       "      <td>1.0</td>\n",
       "      <td>5574.0</td>\n",
       "      <td>3001a</td>\n",
       "      <td>15.0</td>\n",
       "      <td>25.0</td>\n",
       "      <td>f</td>\n",
       "      <td>NaN</td>\n",
       "      <td>NaN</td>\n",
       "      <td>NaN</td>\n",
       "      <td>414</td>\n",
       "      <td>Castle</td>\n",
       "      <td>411.0</td>\n",
       "    </tr>\n",
       "    <tr>\n",
       "      <th>3</th>\n",
       "      <td>00-1</td>\n",
       "      <td>Weetabix Castle</td>\n",
       "      <td>1970.0</td>\n",
       "      <td>414.0</td>\n",
       "      <td>471.0</td>\n",
       "      <td>5574.0</td>\n",
       "      <td>1.0</td>\n",
       "      <td>5574.0</td>\n",
       "      <td>3001a</td>\n",
       "      <td>4.0</td>\n",
       "      <td>9.0</td>\n",
       "      <td>f</td>\n",
       "      <td>NaN</td>\n",
       "      <td>NaN</td>\n",
       "      <td>NaN</td>\n",
       "      <td>414</td>\n",
       "      <td>Castle</td>\n",
       "      <td>411.0</td>\n",
       "    </tr>\n",
       "    <tr>\n",
       "      <th>4</th>\n",
       "      <td>00-1</td>\n",
       "      <td>Weetabix Castle</td>\n",
       "      <td>1970.0</td>\n",
       "      <td>414.0</td>\n",
       "      <td>471.0</td>\n",
       "      <td>5574.0</td>\n",
       "      <td>1.0</td>\n",
       "      <td>5574.0</td>\n",
       "      <td>3001a</td>\n",
       "      <td>1.0</td>\n",
       "      <td>4.0</td>\n",
       "      <td>f</td>\n",
       "      <td>NaN</td>\n",
       "      <td>NaN</td>\n",
       "      <td>NaN</td>\n",
       "      <td>414</td>\n",
       "      <td>Castle</td>\n",
       "      <td>411.0</td>\n",
       "    </tr>\n",
       "  </tbody>\n",
       "</table>\n",
       "</div>"
      ],
      "text/plain": [
       "  set_num_x           name_x    year  theme_id  num_parts    id_x  version  \\\n",
       "0      00-1  Weetabix Castle  1970.0     414.0      471.0  5574.0      1.0   \n",
       "1      00-1  Weetabix Castle  1970.0     414.0      471.0  5574.0      1.0   \n",
       "2      00-1  Weetabix Castle  1970.0     414.0      471.0  5574.0      1.0   \n",
       "3      00-1  Weetabix Castle  1970.0     414.0      471.0  5574.0      1.0   \n",
       "4      00-1  Weetabix Castle  1970.0     414.0      471.0  5574.0      1.0   \n",
       "\n",
       "   inventory_id_x part_num  color_id  quantity_x is_spare  inventory_id_y  \\\n",
       "0          5574.0    29c01       4.0         8.0        f             NaN   \n",
       "1          5574.0    29c01      15.0         6.0        f             NaN   \n",
       "2          5574.0    3001a      15.0        25.0        f             NaN   \n",
       "3          5574.0    3001a       4.0         9.0        f             NaN   \n",
       "4          5574.0    3001a       1.0         4.0        f             NaN   \n",
       "\n",
       "  set_num_y  quantity_y  id_y  name_y  parent_id  \n",
       "0       NaN         NaN   414  Castle      411.0  \n",
       "1       NaN         NaN   414  Castle      411.0  \n",
       "2       NaN         NaN   414  Castle      411.0  \n",
       "3       NaN         NaN   414  Castle      411.0  \n",
       "4       NaN         NaN   414  Castle      411.0  "
      ]
     },
     "execution_count": 9,
     "metadata": {},
     "output_type": "execute_result"
    }
   ],
   "source": [
    "df = pd.merge(df_final, df_themes, left_on = \"theme_id\", right_on = \"id\", how = \"outer\")\n",
    "df.head()"
   ]
  },
  {
   "cell_type": "code",
   "execution_count": 11,
   "metadata": {},
   "outputs": [
    {
     "data": {
      "text/plain": [
       "Text(0.5, 1.0, 'Number of Parts per set by Year')"
      ]
     },
     "execution_count": 11,
     "metadata": {},
     "output_type": "execute_result"
    },
    {
     "data": {
      "image/png": "[encoded data removed]",
      "text/plain": [
       "<Figure size 432x288 with 1 Axes>"
      ]
     },
     "metadata": {
      "needs_background": "light"
     },
     "output_type": "display_data"
    }
   ],
   "source": [
    "plt.scatter(df['year'], df['num_parts'])\n",
    "\n",
    "plt.xlabel(\"Year\")\n",
    "plt.ylabel(\"Number of Parts per set\")\n",
    "plt.title(\"Number of Parts per set by Year\")"
   ]
  },
  {
   "cell_type": "markdown",
   "metadata": {},
   "source": [
    "This scatter plot shows that over time, the number of parts in lego sets has definitely increased, especially since around 1985 (looks like exponential growth from then on)"
   ]
  },
  {
   "cell_type": "code",
   "execution_count": 12,
   "metadata": {},
   "outputs": [
    {
     "name": "stderr",
     "output_type": "stream",
     "text": [
      "/Users/emilyweed/opt/anaconda3/lib/python3.8/site-packages/numpy/lib/histograms.py:839: RuntimeWarning: invalid value encountered in greater_equal\n",
      "  keep = (tmp_a >= first_edge)\n",
      "/Users/emilyweed/opt/anaconda3/lib/python3.8/site-packages/numpy/lib/histograms.py:840: RuntimeWarning: invalid value encountered in less_equal\n",
      "  keep &= (tmp_a <= last_edge)\n"
     ]
    },
    {
     "data": {
      "text/plain": [
       "Text(0.5, 1.0, 'Number of sets produced over the Years')"
      ]
     },
     "execution_count": 12,
     "metadata": {},
     "output_type": "execute_result"
    },
    {
     "data": {
      "image/png": "[encoded data removed]",
      "text/plain": [
       "<Figure size 432x288 with 1 Axes>"
      ]
     },
     "metadata": {
      "needs_background": "light"
     },
     "output_type": "display_data"
    }
   ],
   "source": [
    "plt.hist(df['year'], edgecolor = 'black')\n",
    "plt.xlabel(\"Year\")\n",
    "plt.ylabel(\"Number of sets produced\")\n",
    "plt.title(\"Number of sets produced over the Years\")"
   ]
  },
  {
   "cell_type": "markdown",
   "metadata": {},
   "source": [
    "This bar chart shows that over the years the number of sets produced has increased. This is due to the growth in the LEGO company over the years. I can also see that most recently (2010-2017, the last year the data set contains values for) set production has just about doubled. This is interesting because it tells me that LEGO sets are still on the rise and have been continuouslt growing ever since being first produced."
   ]
  },
  {
   "cell_type": "code",
   "execution_count": 17,
   "metadata": {},
   "outputs": [
    {
     "name": "stdout",
     "output_type": "stream",
     "text": [
      "['Basic Set', 'Star Wars Episode 4/5/6', 'Ninjago', 'Friends', 'Creator', 'Police', 'Traffic', 'Construction', 'Airport', 'Star Wars']\n"
     ]
    }
   ],
   "source": [
    "#Filtering out the 10 most popular themes and creating a new dataframe for them\n",
    "lst = df['name_y'].value_counts()[:10].index.tolist()\n",
    "print(lst)\n",
    "df_themes = df[df['name_y'].isin(lst)]"
   ]
  },
  {
   "cell_type": "code",
   "execution_count": 18,
   "metadata": {},
   "outputs": [],
   "source": [
    "df_themes.rename(columns = {'name_y':'Set Theme'}, inplace = True)"
   ]
  },
  {
   "cell_type": "code",
   "execution_count": 19,
   "metadata": {},
   "outputs": [
    {
     "data": {
      "text/plain": [
       "<seaborn.axisgrid.FacetGrid at 0x7f7f86bc96d0>"
      ]
     },
     "execution_count": 19,
     "metadata": {},
     "output_type": "execute_result"
    },
    {
     "data": {
      "image/png": "[encoded data removed]",
      "text/plain": [
       "<Figure size 1008x504 with 1 Axes>"
      ]
     },
     "metadata": {
      "needs_background": "light"
     },
     "output_type": "display_data"
    }
   ],
   "source": [
    "g = sns.catplot(x = 'Set Theme', y = 'year', data = df_themes, height = 7, aspect = 2,   \n",
    "                kind = 'box')\n",
    "g.set_xticklabels(rotation=90)"
   ]
  },
  {
   "cell_type": "markdown",
   "metadata": {},
   "source": [
    "This graph shows boxplots of each set theme produced against the years. To construct this graph I restricted the themes to the top 10 most frequent to be able to get a readable plot. This plot shows us the distribution of years each theme was produced. I can see that the Ninjago themes are much newer (which makes sense because the movie came out in 2011). Additionally it's interesting to analyze the shape of the box plots. For the basic sets, the first quartile is more concentrated than the thrid, meaning more were made during about 2001-2004 than from about 2004-2009. So basic sets were more popular in the early 2000s. I can see a lot from this plot and it would beneficial to make more for other themes."
   ]
  },
  {
   "cell_type": "code",
   "execution_count": null,
   "metadata": {},
   "outputs": [],
   "source": [
    "fig = plt.gcf()\n",
    "fig.set_size_inches(14, 10)\n",
    "pt = sns.scatterplot(y = 'num_parts', x = 'year', data = df_themes, hue = 'Set Theme', s = 100)\n",
    "plt.title(\"Number of parts by year colored by Set Theme\")\n",
    "plt.xlabel(\"Year\")\n",
    "plt.ylabel(\"Number of parts\")\n",
    "plt.legend(fontsize='x-large')\n",
    "\n"
   ]
  }
 ],
 "metadata": {
  "kernelspec": {
   "display_name": "Python 3",
   "language": "python",
   "name": "python3"
  },
  "language_info": {
   "codemirror_mode": {
    "name": "ipython",
    "version": 3
   },
   "file_extension": ".py",
   "mimetype": "text/x-python",
   "name": "python",
   "nbconvert_exporter": "python",
   "pygments_lexer": "ipython3",
   "version": "3.8.3"
  }
 },
 "nbformat": 4,
 "nbformat_minor": 4
}
